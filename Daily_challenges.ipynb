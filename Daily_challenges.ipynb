{
 "cells": [
  {
   "cell_type": "markdown",
   "metadata": {},
   "source": [
    "# Dialy Coding Challanges\n",
    "\n",
    "### All the Daily problems is in the Daily_challenges.ipynb file. \n",
    "\n",
    "#### It will get refreshed everyday with new coding problem at the top."
   ]
  },
  {
   "cell_type": "markdown",
   "metadata": {},
   "source": [
    "1\n",
    "\n",
    "6 1\n",
    "\n",
    "10 5 1\n",
    "\n",
    "13 8 4 1\n",
    "\n",
    "15 10 6 3 1\n",
    "\n",
    "16 11 7 4 2 1\n",
    "\n",
    "#### Write a function to print it"
   ]
  },
  {
   "cell_type": "code",
   "execution_count": 1,
   "metadata": {},
   "outputs": [
    {
     "name": "stdout",
     "output_type": "stream",
     "text": [
      "1\n",
      "6 1\n",
      "10 5 1\n",
      "13 8 4 1\n",
      "15 10 6 3 1\n",
      "16 11 7 4 2 1\n"
     ]
    }
   ],
   "source": [
    "def pattern(n):\n",
    "    for i in range(1,n+1):\n",
    "        l = []\n",
    "        k = 1\n",
    "        y = n-i\n",
    "        for j in range(i):\n",
    "            l.insert(0,k)\n",
    "            k+=y+j+1\n",
    "        print(*l)\n",
    "\n",
    "pattern(6)"
   ]
  }
 ],
 "metadata": {
  "kernelspec": {
   "display_name": ".env",
   "language": "python",
   "name": "python3"
  },
  "language_info": {
   "codemirror_mode": {
    "name": "ipython",
    "version": 3
   },
   "file_extension": ".py",
   "mimetype": "text/x-python",
   "name": "python",
   "nbconvert_exporter": "python",
   "pygments_lexer": "ipython3",
   "version": "3.8.10"
  }
 },
 "nbformat": 4,
 "nbformat_minor": 2
}
