{
 "cells": [
  {
   "cell_type": "markdown",
   "metadata": {},
   "source": [
    "\n",
    "### ----------------------------------------------------------------------------------------------------------------------------------------------------------------------\n",
    "# Daily Coding Challanges\n",
    "### ----------------------------------------------------------------------------------------------------------------------------------------------------------------------\n",
    "\n",
    "### All the Daily problems is in the Daily_challenges.ipynb file. \n",
    "\n",
    "#### It will get refreshed everyday with new coding problem at the top.\n",
    "\n",
    "### ----------------------------------------------------------------------------------------------------------------------------------------------------------------------"
   ]
  },
  {
   "cell_type": "markdown",
   "metadata": {},
   "source": [
    "### "
   ]
  },
  {
   "cell_type": "markdown",
   "metadata": {},
   "source": [
    "### PROBLEMS"
   ]
  },
  {
   "cell_type": "markdown",
   "metadata": {},
   "source": [
    "### ----------------------------------------------------START----------------------------------------------------\n",
    "Write a Code to find sum of values of matrix above main diagonal"
   ]
  },
  {
   "cell_type": "code",
   "execution_count": null,
   "metadata": {},
   "outputs": [],
   "source": [
    "def sum1(mat):\n",
    "    total_sum=0\n",
    "    if len(mat)==len(mat[0]):\n",
    "        for i in range(len(mat)):\n",
    "            for j in range(len(mat[0])):\n",
    "                if i<j:\n",
    "                    # total_sum+=mat[i][j]\n",
    "                    print(mat[i][j])"
   ]
  },
  {
   "cell_type": "markdown",
   "metadata": {},
   "source": [
    "### ----------------------------------------------------START----------------------------------------------------\n",
    "\n",
    "Perform Element-Wise 1-D matrix multiplication.\n",
    "if any matrix is larger multiply the remaining values by 1  "
   ]
  },
  {
   "cell_type": "code",
   "execution_count": 1,
   "metadata": {},
   "outputs": [
    {
     "name": "stdout",
     "output_type": "stream",
     "text": [
      "[11, 24, 39, 56, 75, 6, 7, 8, 9, 0]\n"
     ]
    }
   ],
   "source": [
    "l1 = [1,2,3,4,5,6,7,8,9,0]\n",
    "l2 = [11,12,13,14,15]\n",
    "\n",
    "n = abs(len(l2)-len(l1))\n",
    "if len(l1)>len(l2):\n",
    "    l2.extend([1]*n)\n",
    "else:\n",
    "    l1.extend([1]*n)\n",
    "\n",
    "for i in range(len(l1)): # numpy.multiply(l1,l2)\n",
    "    l1[i]=l1[i]*l2[i]   \n",
    "\n",
    "print(l1)"
   ]
  },
  {
   "cell_type": "markdown",
   "metadata": {},
   "source": [
    "### ----------------------------------------------------START----------------------------------------------------\n",
    "Problem:\n",
    "\n",
    "0\n",
    "\n",
    "5 1 \n",
    "\n",
    "10 5 2\n",
    "\n",
    "15 9 5 3\n",
    "\n",
    "20 13 8 5 4\n",
    "\n",
    "#### Write a function to print it"
   ]
  },
  {
   "cell_type": "code",
   "execution_count": 1,
   "metadata": {},
   "outputs": [
    {
     "name": "stdout",
     "output_type": "stream",
     "text": [
      "0 \n",
      "5 1 \n",
      "10 5 2 \n",
      "15 9 5 3 \n",
      "20 13 8 5 4 \n"
     ]
    }
   ],
   "source": [
    "def pat(n):\n",
    "    oddline = 4\n",
    "    evenline = 5\n",
    "    start = 0\n",
    "    for i in range(n):\n",
    "        string = \"\"\n",
    "        if i%2:\n",
    "            subtractor = oddline\n",
    "            if i:oddline+=2\n",
    "        else:\n",
    "            subtractor = evenline\n",
    "            if i:evenline+=2\n",
    "        st = start\n",
    "        for j in range(i+1):\n",
    "            string+=str(st)+\" \"\n",
    "            st-=subtractor\n",
    "            subtractor-=2\n",
    "        start+=5\n",
    "        print(string)\n",
    "\n",
    "pat(5)"
   ]
  },
  {
   "cell_type": "markdown",
   "metadata": {},
   "source": [
    "### ----------------------------------------------------START----------------------------------------------------\n",
    "Problem:\n",
    "\n",
    "2\n",
    "\n",
    "8 7\n",
    "\n",
    "13 12 10\n",
    "\n",
    "17 16 14 11 \n",
    "\n",
    "20 19 17 14 10\n",
    "\n",
    "#### Write a function to print it"
   ]
  },
  {
   "cell_type": "code",
   "execution_count": 5,
   "metadata": {},
   "outputs": [
    {
     "name": "stdout",
     "output_type": "stream",
     "text": [
      "2 \n",
      "8 7 \n",
      "13 12 10 \n",
      "17 16 14 11 \n",
      "20 19 17 14 10 \n"
     ]
    }
   ],
   "source": [
    "\n",
    "def app(n):\n",
    "    start=2\n",
    "    for i in range(n):\n",
    "        string=\"\"\n",
    "        val = start\n",
    "        for j in range(1,i+2):\n",
    "            string+=str(val)+\" \"\n",
    "            val-=j\n",
    "        print(string)  \n",
    "        start+=n+1-i\n",
    "\n",
    "app(5)\n"
   ]
  },
  {
   "cell_type": "markdown",
   "metadata": {},
   "source": [
    "### ----------------------------------------------------START----------------------------------------------------\n",
    "Problem:\n",
    "\n",
    "1\n",
    "\n",
    "6 1\n",
    "\n",
    "10 5 1\n",
    "\n",
    "13 8 4 1\n",
    "\n",
    "15 10 6 3 1\n",
    "\n",
    "16 11 7 4 2 1\n",
    "\n",
    "#### Write a function to print it"
   ]
  },
  {
   "cell_type": "code",
   "execution_count": 1,
   "metadata": {},
   "outputs": [
    {
     "name": "stdout",
     "output_type": "stream",
     "text": [
      "1\n",
      "6 1\n",
      "10 5 1\n",
      "13 8 4 1\n",
      "15 10 6 3 1\n",
      "16 11 7 4 2 1\n"
     ]
    }
   ],
   "source": [
    "def pattern(n):\n",
    "    for i in range(1,n+1):\n",
    "        l = []\n",
    "        k = 1\n",
    "        y = n-i\n",
    "        for j in range(i):\n",
    "            l.insert(0,k)\n",
    "            k+=y+j+1\n",
    "        print(*l)\n",
    "\n",
    "pattern(6)"
   ]
  }
 ],
 "metadata": {
  "kernelspec": {
   "display_name": ".env",
   "language": "python",
   "name": "python3"
  },
  "language_info": {
   "codemirror_mode": {
    "name": "ipython",
    "version": 3
   },
   "file_extension": ".py",
   "mimetype": "text/x-python",
   "name": "python",
   "nbconvert_exporter": "python",
   "pygments_lexer": "ipython3",
   "version": "3.8.10"
  }
 },
 "nbformat": 4,
 "nbformat_minor": 2
}
